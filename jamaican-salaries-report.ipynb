{
 "cells": [
  {
   "cell_type": "code",
   "execution_count": 2,
   "metadata": {},
   "outputs": [],
   "source": [
    "import pandas as pd"
   ]
  },
  {
   "cell_type": "code",
   "execution_count": 4,
   "metadata": {},
   "outputs": [],
   "source": [
    "file = pd.ExcelFile('/Users/lirving/jamaican-salaries-2017/The-Great-Jamaican-Salary-Survey-report.xlsx')"
   ]
  },
  {
   "cell_type": "code",
   "execution_count": 5,
   "metadata": {},
   "outputs": [
    {
     "name": "stdout",
     "output_type": "stream",
     "text": [
      "['results']\n"
     ]
    }
   ],
   "source": [
    "print(file.sheet_names)"
   ]
  },
  {
   "cell_type": "code",
   "execution_count": 6,
   "metadata": {},
   "outputs": [],
   "source": [
    "survey = file.parse('results')"
   ]
  },
  {
   "cell_type": "code",
   "execution_count": 7,
   "metadata": {},
   "outputs": [
    {
     "name": "stdout",
     "output_type": "stream",
     "text": [
      "                                  # Which age group do you belong to?  \\\n",
      "0  1fd874a48fe48854960e8950861355d7                           25 - 30   \n",
      "1  9b560ff8316bc41d453045780ba37f58                           18 - 24   \n",
      "2  6c8b59b47ce982811f8a43e2deb78480                           31 - 35   \n",
      "3  d571a15b7786263e920d4c347cba83c4                           18 - 24   \n",
      "4  d2b2bc421b6d67368cde060ea89f9ce3                           35 - 40   \n",
      "\n",
      "  Which gender do you identify with? What is your highest level of education?  \\\n",
      "0                                Man                        Bachelor's Degree   \n",
      "1                              Woman                        Bachelor's Degree   \n",
      "2                              Woman                        Bachelor's Degree   \n",
      "3                              Woman               Postgraduate Certification   \n",
      "4                                Man                          Master's Degree   \n",
      "\n",
      "   Have you received any educational/professional qualifications from an institution outside of Jamaica?  \\\n",
      "0                                                  0                                                       \n",
      "1                                                  0                                                       \n",
      "2                                                  0                                                       \n",
      "3                                                  0                                                       \n",
      "4                                                  1                                                       \n",
      "\n",
      "     Which field are you working in?  \\\n",
      "0             Information Technology   \n",
      "1  Customer Service and Call Centres   \n",
      "2                  Creative Services   \n",
      "3                          Marketing   \n",
      "4             Information Technology   \n",
      "\n",
      "  How much experience do you have in your field?  \\\n",
      "0                                    5 - 7 years   \n",
      "1                                    0 - 2 years   \n",
      "2                                    7 - 9 years   \n",
      "3                                    3 - 5 years   \n",
      "4                                   Over 9 years   \n",
      "\n",
      "  How long have you been in your current role?  \\\n",
      "0                                  5 - 6 years   \n",
      "1                             Less than 1 year   \n",
      "2                                 9 - 10 years   \n",
      "3                             Less than 1 year   \n",
      "4                                 9 - 10 years   \n",
      "\n",
      "  What is your current net (take home) monthly salary?  Lunch allowance  \\\n",
      "0                                $150,001 - $170,000                NaN   \n",
      "1                                  $70,001 - $90,000                NaN   \n",
      "2                                $230,001 - $250,000    Lunch allowance   \n",
      "3                                $130,001 - $150,000                NaN   \n",
      "4                                $190,001 - $210,000                NaN   \n",
      "\n",
      "      ...     Select the rank of your current position Other.1  \\\n",
      "0     ...                                  Supervisory     NaN   \n",
      "1     ...                                  Entry level     NaN   \n",
      "2     ...                                  Supervisory     NaN   \n",
      "3     ...                                  Entry level     NaN   \n",
      "4     ...                                  Supervisory     NaN   \n",
      "\n",
      "  Are you able to comfortably meet your BASIC living expenses with your current income?  \\\n",
      "0                                                  1                                      \n",
      "1                                                  1                                      \n",
      "2                                                  0                                      \n",
      "3                                                  1                                      \n",
      "4                                                  1                                      \n",
      "\n",
      "  After taking care of your basic living expenses, would you say you have enough left over to take care of the fun stuff (eating out, entertainment, leisure, treating yourself, etc.)?  \\\n",
      "0                                                  1                                                                                                                                      \n",
      "1                                                  1                                                                                                                                      \n",
      "2                                                  0                                                                                                                                      \n",
      "3                                                  0                                                                                                                                      \n",
      "4                                                  1                                                                                                                                      \n",
      "\n",
      "  Do you have a general idea of what salaries are like in your field?  \\\n",
      "0                                                  1                    \n",
      "1                                                  1                    \n",
      "2                                                  1                    \n",
      "3                                                  0                    \n",
      "4                                                  1                    \n",
      "\n",
      "  Select the statement that best describes your attitude towards your salary.  \\\n",
      "0  I believe that I am underpaid, considering my ...                            \n",
      "1  I believe that I am underpaid, considering my ...                            \n",
      "2  I believe that I am underpaid, considering my ...                            \n",
      "3  I believe that I am adequately paid, consideri...                            \n",
      "4  I believe that I am underpaid, considering my ...                            \n",
      "\n",
      "  How satisfied are you with your current salary?     Start Date (UTC)  \\\n",
      "0                                               5  2017-01-03 21:59:45   \n",
      "1                                               5  2017-01-03 21:59:53   \n",
      "2                                               5  2017-01-03 22:01:09   \n",
      "3                                               5  2017-01-03 22:01:38   \n",
      "4                                               6  2017-01-03 22:01:15   \n",
      "\n",
      "     Submit Date (UTC)  Network ID  \n",
      "0  2017-01-03 22:01:23  7c06774c6c  \n",
      "1  2017-01-03 22:01:48  58ca3ef9e1  \n",
      "2  2017-01-03 22:03:20  5345e02efc  \n",
      "3  2017-01-03 22:03:25  7a079f8e29  \n",
      "4  2017-01-03 22:04:15  3ac97c1eaa  \n",
      "\n",
      "[5 rows x 26 columns]\n"
     ]
    }
   ],
   "source": [
    "#Inspect data\n",
    "\n",
    "print(survey.head())"
   ]
  },
  {
   "cell_type": "code",
   "execution_count": 21,
   "metadata": {},
   "outputs": [],
   "source": [
    "#Delete unnecessary columns\n",
    "survey = survey.drop (['#','None', 'Other', 'Other.1', 'Start Date (UTC)','Submit Date (UTC)', 'Network ID'], axis=1)"
   ]
  },
  {
   "cell_type": "code",
   "execution_count": 23,
   "metadata": {},
   "outputs": [],
   "source": [
    "#Rename remaining columns\n",
    "survey.columns = ['age','gender','education','foreign_edu','field','experience','current_role','monthly_salary',\n",
    "                  'lunch', 'vehicle', 'clothing', 'health_insurance', 'cellphone', 'job_level', 'basic_expenses', 'entertainment', 'salary_knowledge', \n",
    "                  'outlook', 'salary_satisfaction']\n"
   ]
  },
  {
   "cell_type": "code",
   "execution_count": 25,
   "metadata": {},
   "outputs": [
    {
     "name": "stdout",
     "output_type": "stream",
     "text": [
      "       age gender                   education  foreign_edu  \\\n",
      "0  25 - 30    Man           Bachelor's Degree            0   \n",
      "1  18 - 24  Woman           Bachelor's Degree            0   \n",
      "2  31 - 35  Woman           Bachelor's Degree            0   \n",
      "3  18 - 24  Woman  Postgraduate Certification            0   \n",
      "4  35 - 40    Man             Master's Degree            1   \n",
      "\n",
      "                               field    experience      current_role  \\\n",
      "0             Information Technology   5 - 7 years       5 - 6 years   \n",
      "1  Customer Service and Call Centres   0 - 2 years  Less than 1 year   \n",
      "2                  Creative Services   7 - 9 years      9 - 10 years   \n",
      "3                          Marketing   3 - 5 years  Less than 1 year   \n",
      "4             Information Technology  Over 9 years      9 - 10 years   \n",
      "\n",
      "        monthly_salary            lunch               vehicle  \\\n",
      "0  $150,001 - $170,000              NaN                   NaN   \n",
      "1    $70,001 - $90,000              NaN                   NaN   \n",
      "2  $230,001 - $250,000  Lunch allowance  Vehicle maintenance    \n",
      "3  $130,001 - $150,000              NaN                   NaN   \n",
      "4  $190,001 - $210,000              NaN  Vehicle maintenance    \n",
      "\n",
      "             clothing  health_insurance cellphone    job_level  \\\n",
      "0                 NaN  Health insurance       NaN  Supervisory   \n",
      "1                 NaN               NaN       NaN  Entry level   \n",
      "2                 NaN  Health insurance       NaN  Supervisory   \n",
      "3                 NaN               NaN       NaN  Entry level   \n",
      "4  Clothing allowance  Health insurance       NaN  Supervisory   \n",
      "\n",
      "   basic_expenses  entertainment  salary_knowledge  \\\n",
      "0               1              1                 1   \n",
      "1               1              1                 1   \n",
      "2               0              0                 1   \n",
      "3               1              0                 0   \n",
      "4               1              1                 1   \n",
      "\n",
      "                                             outlook  salary_satisfaction  \n",
      "0  I believe that I am underpaid, considering my ...                    5  \n",
      "1  I believe that I am underpaid, considering my ...                    5  \n",
      "2  I believe that I am underpaid, considering my ...                    5  \n",
      "3  I believe that I am adequately paid, consideri...                    5  \n",
      "4  I believe that I am underpaid, considering my ...                    6  \n"
     ]
    }
   ],
   "source": [
    "print(survey.head())"
   ]
  },
  {
   "cell_type": "code",
   "execution_count": null,
   "metadata": {},
   "outputs": [],
   "source": []
  }
 ],
 "metadata": {
  "kernelspec": {
   "display_name": "Python 3",
   "language": "python",
   "name": "python3"
  },
  "language_info": {
   "codemirror_mode": {
    "name": "ipython",
    "version": 3
   },
   "file_extension": ".py",
   "mimetype": "text/x-python",
   "name": "python",
   "nbconvert_exporter": "python",
   "pygments_lexer": "ipython3",
   "version": "3.6.4"
  }
 },
 "nbformat": 4,
 "nbformat_minor": 2
}
