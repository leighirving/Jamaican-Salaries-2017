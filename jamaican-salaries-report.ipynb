{
 "cells": [
  {
   "cell_type": "code",
   "execution_count": 106,
   "metadata": {},
   "outputs": [],
   "source": [
    "import pandas as pd\n",
    "import numpy as np"
   ]
  },
  {
   "cell_type": "code",
   "execution_count": 107,
   "metadata": {},
   "outputs": [],
   "source": [
    "file = pd.ExcelFile('/Users/lirving/jamaican-salaries-2017/The-Great-Jamaican-Salary-Survey-report.xlsx')"
   ]
  },
  {
   "cell_type": "code",
   "execution_count": 108,
   "metadata": {},
   "outputs": [
    {
     "name": "stdout",
     "output_type": "stream",
     "text": [
      "['results']\n"
     ]
    }
   ],
   "source": [
    "print(file.sheet_names)"
   ]
  },
  {
   "cell_type": "code",
   "execution_count": 109,
   "metadata": {},
   "outputs": [],
   "source": [
    "survey = file.parse('results')"
   ]
  },
  {
   "cell_type": "code",
   "execution_count": 110,
   "metadata": {},
   "outputs": [
    {
     "name": "stdout",
     "output_type": "stream",
     "text": [
      "                                  # Which age group do you belong to?  \\\n",
      "0  1fd874a48fe48854960e8950861355d7                           25 - 30   \n",
      "1  9b560ff8316bc41d453045780ba37f58                           18 - 24   \n",
      "2  6c8b59b47ce982811f8a43e2deb78480                           31 - 35   \n",
      "3  d571a15b7786263e920d4c347cba83c4                           18 - 24   \n",
      "4  d2b2bc421b6d67368cde060ea89f9ce3                           35 - 40   \n",
      "\n",
      "  Which gender do you identify with? What is your highest level of education?  \\\n",
      "0                                Man                        Bachelor's Degree   \n",
      "1                              Woman                        Bachelor's Degree   \n",
      "2                              Woman                        Bachelor's Degree   \n",
      "3                              Woman               Postgraduate Certification   \n",
      "4                                Man                          Master's Degree   \n",
      "\n",
      "   Have you received any educational/professional qualifications from an institution outside of Jamaica?  \\\n",
      "0                                                  0                                                       \n",
      "1                                                  0                                                       \n",
      "2                                                  0                                                       \n",
      "3                                                  0                                                       \n",
      "4                                                  1                                                       \n",
      "\n",
      "     Which field are you working in?  \\\n",
      "0             Information Technology   \n",
      "1  Customer Service and Call Centres   \n",
      "2                  Creative Services   \n",
      "3                          Marketing   \n",
      "4             Information Technology   \n",
      "\n",
      "  How much experience do you have in your field?  \\\n",
      "0                                    5 - 7 years   \n",
      "1                                    0 - 2 years   \n",
      "2                                    7 - 9 years   \n",
      "3                                    3 - 5 years   \n",
      "4                                   Over 9 years   \n",
      "\n",
      "  How long have you been in your current role?  \\\n",
      "0                                  5 - 6 years   \n",
      "1                             Less than 1 year   \n",
      "2                                 9 - 10 years   \n",
      "3                             Less than 1 year   \n",
      "4                                 9 - 10 years   \n",
      "\n",
      "  What is your current net (take home) monthly salary?  Lunch allowance  \\\n",
      "0                                $150,001 - $170,000                NaN   \n",
      "1                                  $70,001 - $90,000                NaN   \n",
      "2                                $230,001 - $250,000    Lunch allowance   \n",
      "3                                $130,001 - $150,000                NaN   \n",
      "4                                $190,001 - $210,000                NaN   \n",
      "\n",
      "      ...     Select the rank of your current position Other.1  \\\n",
      "0     ...                                  Supervisory     NaN   \n",
      "1     ...                                  Entry level     NaN   \n",
      "2     ...                                  Supervisory     NaN   \n",
      "3     ...                                  Entry level     NaN   \n",
      "4     ...                                  Supervisory     NaN   \n",
      "\n",
      "  Are you able to comfortably meet your BASIC living expenses with your current income?  \\\n",
      "0                                                  1                                      \n",
      "1                                                  1                                      \n",
      "2                                                  0                                      \n",
      "3                                                  1                                      \n",
      "4                                                  1                                      \n",
      "\n",
      "  After taking care of your basic living expenses, would you say you have enough left over to take care of the fun stuff (eating out, entertainment, leisure, treating yourself, etc.)?  \\\n",
      "0                                                  1                                                                                                                                      \n",
      "1                                                  1                                                                                                                                      \n",
      "2                                                  0                                                                                                                                      \n",
      "3                                                  0                                                                                                                                      \n",
      "4                                                  1                                                                                                                                      \n",
      "\n",
      "  Do you have a general idea of what salaries are like in your field?  \\\n",
      "0                                                  1                    \n",
      "1                                                  1                    \n",
      "2                                                  1                    \n",
      "3                                                  0                    \n",
      "4                                                  1                    \n",
      "\n",
      "  Select the statement that best describes your attitude towards your salary.  \\\n",
      "0  I believe that I am underpaid, considering my ...                            \n",
      "1  I believe that I am underpaid, considering my ...                            \n",
      "2  I believe that I am underpaid, considering my ...                            \n",
      "3  I believe that I am adequately paid, consideri...                            \n",
      "4  I believe that I am underpaid, considering my ...                            \n",
      "\n",
      "  How satisfied are you with your current salary?     Start Date (UTC)  \\\n",
      "0                                               5  2017-01-03 21:59:45   \n",
      "1                                               5  2017-01-03 21:59:53   \n",
      "2                                               5  2017-01-03 22:01:09   \n",
      "3                                               5  2017-01-03 22:01:38   \n",
      "4                                               6  2017-01-03 22:01:15   \n",
      "\n",
      "     Submit Date (UTC)  Network ID  \n",
      "0  2017-01-03 22:01:23  7c06774c6c  \n",
      "1  2017-01-03 22:01:48  58ca3ef9e1  \n",
      "2  2017-01-03 22:03:20  5345e02efc  \n",
      "3  2017-01-03 22:03:25  7a079f8e29  \n",
      "4  2017-01-03 22:04:15  3ac97c1eaa  \n",
      "\n",
      "[5 rows x 26 columns]\n"
     ]
    }
   ],
   "source": [
    "#Inspect data\n",
    "\n",
    "print(survey.head())"
   ]
  },
  {
   "cell_type": "code",
   "execution_count": 111,
   "metadata": {},
   "outputs": [],
   "source": [
    "#Delete unnecessary columns\n",
    "survey = survey.drop (['#','None','Other.1', 'Start Date (UTC)','Submit Date (UTC)', 'Network ID'], axis=1)"
   ]
  },
  {
   "cell_type": "code",
   "execution_count": 112,
   "metadata": {},
   "outputs": [],
   "source": [
    "#Rename remaining columns\n",
    "survey.columns = ['age','gender','education','foreign_edu','field','experience','time_current_role','monthly_salary',\n",
    "                  'lunch', 'vehicle', 'clothing', 'health_insurance', 'cellphone', 'other_benefits', 'job_level',\n",
    "                  'basic_expenses', 'entertainment', 'salary_knowledge', 'outlook', 'salary_satisfaction']\n"
   ]
  },
  {
   "cell_type": "code",
   "execution_count": 113,
   "metadata": {},
   "outputs": [],
   "source": [
    "survey['gender']= survey['gender'].replace({'Man': 'Male', 'Woman':'Female'})"
   ]
  },
  {
   "cell_type": "code",
   "execution_count": 114,
   "metadata": {},
   "outputs": [],
   "source": [
    "survey['outlook']= survey['outlook'].replace({'I believe that I am underpaid, considering my skills, qualifications and experience.':'underpaid',\n",
    "                          'I believe that I am adequately paid, considering my skills, qualifications and experience.':'adequately_paid',\n",
    "                          'I believe that I am generously paid, considering my skills, qualifications and experience.':'generously_paid',\n",
    "                          'I believe that I am vastly overpaid, considering my skills, qualifications and experience.':'overpaid'})"
   ]
  },
  {
   "cell_type": "code",
   "execution_count": 115,
   "metadata": {},
   "outputs": [],
   "source": [
    "survey['lunch']= survey['lunch'].replace({'Lunch allowance':1, np.nan:0})\n",
    "survey['vehicle']= survey['vehicle'].replace({'Vehicle maintenance ':1, np.nan:0})\n",
    "survey['clothing']= survey['clothing'].replace({'Clothing allowance':1, np.nan:0})\n",
    "survey['health_insurance']= survey['health_insurance'].replace({'Health insurance':1, np.nan:0})\n",
    "survey['cellphone'] = survey['cellphone'].replace({'Cell phone':1, np.nan:0})"
   ]
  },
  {
   "cell_type": "code",
   "execution_count": 116,
   "metadata": {},
   "outputs": [],
   "source": [
    "#Change variables to appropriate data types\n",
    "survey['age'] = survey['age'].astype('category')\n",
    "survey['gender'] = survey['gender'].astype('category')\n",
    "survey['education'] = survey['education'].astype('category')\n",
    "survey['field'] = survey['field'].astype('category')\n",
    "survey['experience'] = survey['experience'].astype('category')\n",
    "survey['time_current_role'] = survey['time_current_role'].astype('category')\n",
    "survey['monthly_salary'] = survey['monthly_salary'].astype('category')\n",
    "survey['job_level'] = survey['job_level'].astype('category')\n",
    "survey['outlook'] = survey['outlook'].astype('category')"
   ]
  },
  {
   "cell_type": "code",
   "execution_count": 117,
   "metadata": {},
   "outputs": [
    {
     "name": "stdout",
     "output_type": "stream",
     "text": [
      "<class 'pandas.core.frame.DataFrame'>\n",
      "RangeIndex: 745 entries, 0 to 744\n",
      "Data columns (total 20 columns):\n",
      "age                    745 non-null category\n",
      "gender                 745 non-null category\n",
      "education              745 non-null category\n",
      "foreign_edu            745 non-null int64\n",
      "field                  745 non-null category\n",
      "experience             745 non-null category\n",
      "time_current_role      745 non-null category\n",
      "monthly_salary         745 non-null category\n",
      "lunch                  745 non-null int64\n",
      "vehicle                745 non-null int64\n",
      "clothing               745 non-null int64\n",
      "health_insurance       745 non-null int64\n",
      "cellphone              745 non-null int64\n",
      "other_benefits         74 non-null object\n",
      "job_level              683 non-null category\n",
      "basic_expenses         745 non-null int64\n",
      "entertainment          745 non-null int64\n",
      "salary_knowledge       745 non-null int64\n",
      "outlook                745 non-null category\n",
      "salary_satisfaction    745 non-null int64\n",
      "dtypes: category(9), int64(10), object(1)\n",
      "memory usage: 75.7+ KB\n"
     ]
    }
   ],
   "source": [
    "survey.info()"
   ]
  },
  {
   "cell_type": "code",
   "execution_count": 118,
   "metadata": {},
   "outputs": [
    {
     "name": "stdout",
     "output_type": "stream",
     "text": [
      "       age  gender                   education  foreign_edu  \\\n",
      "0  25 - 30    Male           Bachelor's Degree            0   \n",
      "1  18 - 24  Female           Bachelor's Degree            0   \n",
      "2  31 - 35  Female           Bachelor's Degree            0   \n",
      "3  18 - 24  Female  Postgraduate Certification            0   \n",
      "4  35 - 40    Male             Master's Degree            1   \n",
      "\n",
      "                               field    experience time_current_role  \\\n",
      "0             Information Technology   5 - 7 years       5 - 6 years   \n",
      "1  Customer Service and Call Centres   0 - 2 years  Less than 1 year   \n",
      "2                  Creative Services   7 - 9 years      9 - 10 years   \n",
      "3                          Marketing   3 - 5 years  Less than 1 year   \n",
      "4             Information Technology  Over 9 years      9 - 10 years   \n",
      "\n",
      "        monthly_salary  lunch  vehicle  clothing  health_insurance  cellphone  \\\n",
      "0  $150,001 - $170,000      0        0         0                 1          0   \n",
      "1    $70,001 - $90,000      0        0         0                 0          0   \n",
      "2  $230,001 - $250,000      1        1         0                 1          0   \n",
      "3  $130,001 - $150,000      0        0         0                 0          0   \n",
      "4  $190,001 - $210,000      0        1         1                 1          0   \n",
      "\n",
      "  other_benefits    job_level  basic_expenses  entertainment  \\\n",
      "0            NaN  Supervisory               1              1   \n",
      "1            NaN  Entry level               1              1   \n",
      "2            NaN  Supervisory               0              0   \n",
      "3            NaN  Entry level               1              0   \n",
      "4            NaN  Supervisory               1              1   \n",
      "\n",
      "   salary_knowledge          outlook  salary_satisfaction  \n",
      "0                 1        underpaid                    5  \n",
      "1                 1        underpaid                    5  \n",
      "2                 1        underpaid                    5  \n",
      "3                 0  adequately_paid                    5  \n",
      "4                 1        underpaid                    6  \n"
     ]
    }
   ],
   "source": [
    "print(survey.head())"
   ]
  },
  {
   "cell_type": "code",
   "execution_count": null,
   "metadata": {},
   "outputs": [],
   "source": []
  }
 ],
 "metadata": {
  "kernelspec": {
   "display_name": "Python 3",
   "language": "python",
   "name": "python3"
  },
  "language_info": {
   "codemirror_mode": {
    "name": "ipython",
    "version": 3
   },
   "file_extension": ".py",
   "mimetype": "text/x-python",
   "name": "python",
   "nbconvert_exporter": "python",
   "pygments_lexer": "ipython3",
   "version": "3.6.4"
  }
 },
 "nbformat": 4,
 "nbformat_minor": 2
}
